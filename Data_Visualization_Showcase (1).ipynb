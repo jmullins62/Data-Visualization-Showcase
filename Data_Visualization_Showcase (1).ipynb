{
  "nbformat": 4,
  "nbformat_minor": 5,
  "metadata": {
    "noteable-chatgpt": {
      "create_notebook": {
        "openai_conversation_id": "202c2c19-0850-5d96-b375-86c57c2021f8",
        "openai_ephemeral_user_id": "649cf6fa-9218-58e9-8574-59c196ec10dd",
        "openai_subdivision1_iso_code": "US-TX"
      }
    },
    "kernel_info": {
      "name": "python3"
    },
    "noteable": {
      "last_transaction_id": "49c03686-5289-4375-98fe-d6894a94870b"
    },
    "kernelspec": {
      "display_name": "Python 3.9",
      "language": "python",
      "name": "python3"
    },
    "selected_hardware_size": "small"
  },
  "cells": [
    {
      "id": "6ffaccd1-1f75-4ea1-8251-bc967b2bab02",
      "cell_type": "code",
      "metadata": {
        "noteable": {
          "cell_type": "code",
          "output_collection_id": "53459c57-8b48-47f1-8f9d-2a7ba9a6a736"
        },
        "ExecuteTime": {
          "end_time": "2023-07-26T19:14:12.863008+00:00",
          "start_time": "2023-07-26T19:14:11.979051+00:00"
        }
      },
      "execution_count": null,
      "source": "import pandas as pd\nimport matplotlib.pyplot as plt\nimport seaborn as sns",
      "outputs": []
    },
    {
      "id": "67b8eb30-8d24-41a1-a56a-aafb7bd47d2d",
      "cell_type": "code",
      "metadata": {
        "noteable": {
          "cell_type": "code",
          "output_collection_id": "fba3a30a-f0ca-4680-b2bf-e7b46bf9484f"
        },
        "ExecuteTime": {
          "end_time": "2023-07-26T19:15:34.270575+00:00",
          "start_time": "2023-07-26T19:15:33.133962+00:00"
        }
      },
      "execution_count": null,
      "source": "df_2015 = pd.read_csv('/project/2015.csv')\ndf_2015.head()",
      "outputs": []
    },
    {
      "id": "01b68064-db35-4302-8b99-d6be0ae16923",
      "cell_type": "code",
      "metadata": {
        "noteable": {
          "cell_type": "code",
          "output_collection_id": "640c6f65-53ab-4148-a701-81072c737ee5"
        },
        "ExecuteTime": {
          "end_time": "2023-07-26T19:15:47.437998+00:00",
          "start_time": "2023-07-26T19:15:47.199449+00:00"
        },
        "datalink": {
          "c1222452-5bea-4e02-ae01-a2a0a4b58840": {
            "applied_filters": [],
            "dataframe_info": {
              "default_index_used": true,
              "orig_num_cols": 12,
              "orig_num_rows": 5,
              "orig_size_bytes": 520,
              "truncated_num_cols": 12,
              "truncated_num_rows": 5,
              "truncated_size_bytes": 520,
              "truncated_string_columns": []
            },
            "display_id": "c1222452-5bea-4e02-ae01-a2a0a4b58840",
            "dx_settings": {
              "ALLOW_NOTEABLE_ATTRS": true,
              "COLUMN_SAMPLING_METHOD": "outer",
              "DB_LOCATION": ":memory:",
              "DEV_MODE": false,
              "DISPLAY_MAX_COLUMNS": 100,
              "DISPLAY_MAX_ROWS": 50000,
              "DISPLAY_MODE": "simple",
              "ENABLE_ASSIGNMENT": true,
              "ENABLE_DATALINK": true,
              "FLATTEN_COLUMN_VALUES": true,
              "FLATTEN_INDEX_VALUES": false,
              "GENERATE_DEX_METADATA": false,
              "HTML_TABLE_SCHEMA": false,
              "LOG_LEVEL": 30,
              "MAX_RENDER_SIZE_BYTES": 104857600,
              "MAX_STRING_LENGTH": 250,
              "NUM_PAST_SAMPLES_TRACKED": 3,
              "RANDOM_STATE": 12648430,
              "RESET_INDEX_VALUES": false,
              "ROW_SAMPLING_METHOD": "random",
              "SAMPLING_FACTOR": 0.1,
              "SAMPLING_METHOD": "random",
              "STRINGIFY_COLUMN_VALUES": true,
              "STRINGIFY_INDEX_VALUES": false
            },
            "sample_history": [],
            "sampling_time": "2023-07-26T19:15:47.276732",
            "user_variable_name": null,
            "variable_name": "unk_dataframe_17e64b8258a94bc987896b826beb8050"
          }
        }
      },
      "execution_count": null,
      "source": "df_2015 = pd.read_csv('2015.csv')\ndf_2015.head()",
      "outputs": []
    },
    {
      "id": "f6cca43f-7a74-4782-89a9-a2f35a638c0f",
      "cell_type": "code",
      "metadata": {
        "noteable": {
          "cell_type": "code",
          "output_collection_id": "2d07ef7c-1065-48d0-b05e-9cf61bbe85e5"
        },
        "ExecuteTime": {
          "end_time": "2023-07-26T19:16:11.702111+00:00",
          "start_time": "2023-07-26T19:16:10.931245+00:00"
        }
      },
      "execution_count": null,
      "source": "plt.figure(figsize=(10,6))\nsns.boxplot(x='Region', y='Happiness Score', data=df_2015)\nplt.xticks(rotation=90)\nplt.title('Happiness Score Distribution by Region')\nplt.show()",
      "outputs": []
    },
    {
      "id": "49eac9f7-3d32-47e0-8c3a-0ff40c73496c",
      "cell_type": "code",
      "metadata": {
        "noteable": {
          "cell_type": "code",
          "output_collection_id": "884d2bd5-d939-4799-9c05-da42c628f3a9"
        },
        "ExecuteTime": {
          "end_time": "2023-07-26T19:16:30.069890+00:00",
          "start_time": "2023-07-26T19:16:28.933279+00:00"
        }
      },
      "execution_count": null,
      "source": "plt.figure(figsize=(10,8))\nsns.heatmap(df_2015.corr(), annot=True, cmap='coolwarm')\nplt.title('Correlation Matrix of Features')\nplt.show()",
      "outputs": []
    },
    {
      "id": "5b2a9a28-5fe4-446d-b3ff-a215846ebd21",
      "cell_type": "code",
      "metadata": {
        "noteable": {
          "cell_type": "code",
          "output_collection_id": "60517d44-9a42-49c1-aa63-bcae39382afc"
        },
        "ExecuteTime": {
          "end_time": "2023-07-26T19:16:55.465961+00:00",
          "start_time": "2023-07-26T19:16:54.946739+00:00"
        }
      },
      "execution_count": null,
      "source": "plt.figure(figsize=(10,6))\nsns.scatterplot(x='Economy (GDP per Capita)', y='Happiness Score', data=df_2015)\nplt.title('Happiness Score vs Economy (GDP per Capita)')\nplt.show()",
      "outputs": []
    },
    {
      "id": "676cde47-81ea-4373-8082-b29c2e483505",
      "cell_type": "code",
      "metadata": {
        "noteable": {
          "cell_type": "code",
          "output_collection_id": "1b0b6e98-5cda-4a12-b5df-24ea9b2f5950"
        },
        "ExecuteTime": {
          "end_time": "2023-07-26T19:17:19.712293+00:00",
          "start_time": "2023-07-26T19:17:19.215059+00:00"
        }
      },
      "execution_count": null,
      "source": "plt.figure(figsize=(10,6))\nsns.scatterplot(x='Health (Life Expectancy)', y='Happiness Score', data=df_2015)\nplt.title('Happiness Score vs Health (Life Expectancy)')\nplt.show()",
      "outputs": []
    },
    {
      "id": "f50ef604-ca2e-4244-a7d4-b35f98856a35",
      "cell_type": "code",
      "metadata": {
        "noteable": {
          "cell_type": "code",
          "output_collection_id": "02a92313-a1e0-4b77-b3d7-b5165aac674f"
        },
        "ExecuteTime": {
          "end_time": "2023-07-26T19:17:39.179280+00:00",
          "start_time": "2023-07-26T19:17:38.949129+00:00"
        },
        "datalink": {
          "57a63b19-d2f2-4269-b9fd-a307f3bda25c": {
            "applied_filters": [],
            "dataframe_info": {
              "default_index_used": true,
              "orig_num_cols": 13,
              "orig_num_rows": 5,
              "orig_size_bytes": 560,
              "truncated_num_cols": 13,
              "truncated_num_rows": 5,
              "truncated_size_bytes": 560,
              "truncated_string_columns": []
            },
            "display_id": "57a63b19-d2f2-4269-b9fd-a307f3bda25c",
            "dx_settings": {
              "ALLOW_NOTEABLE_ATTRS": true,
              "COLUMN_SAMPLING_METHOD": "outer",
              "DB_LOCATION": ":memory:",
              "DEV_MODE": false,
              "DISPLAY_MAX_COLUMNS": 100,
              "DISPLAY_MAX_ROWS": 50000,
              "DISPLAY_MODE": "simple",
              "ENABLE_ASSIGNMENT": true,
              "ENABLE_DATALINK": true,
              "FLATTEN_COLUMN_VALUES": true,
              "FLATTEN_INDEX_VALUES": false,
              "GENERATE_DEX_METADATA": false,
              "HTML_TABLE_SCHEMA": false,
              "LOG_LEVEL": 30,
              "MAX_RENDER_SIZE_BYTES": 104857600,
              "MAX_STRING_LENGTH": 250,
              "NUM_PAST_SAMPLES_TRACKED": 3,
              "RANDOM_STATE": 12648430,
              "RESET_INDEX_VALUES": false,
              "ROW_SAMPLING_METHOD": "random",
              "SAMPLING_FACTOR": 0.1,
              "SAMPLING_METHOD": "random",
              "STRINGIFY_COLUMN_VALUES": true,
              "STRINGIFY_INDEX_VALUES": false
            },
            "sample_history": [],
            "sampling_time": "2023-07-26T19:17:39.020574",
            "user_variable_name": null,
            "variable_name": "unk_dataframe_40fb15fdd53c4cb2beb2bb405a16126f"
          }
        }
      },
      "execution_count": null,
      "source": "df_2016 = pd.read_csv('2016.csv')\ndf_2016.head()",
      "outputs": []
    },
    {
      "id": "d66a0244-7907-406f-ab5b-902a307b7f06",
      "cell_type": "code",
      "metadata": {
        "noteable": {
          "cell_type": "code",
          "output_collection_id": "419290a2-16ec-4a1c-993e-b49ece645eb5"
        },
        "ExecuteTime": {
          "end_time": "2023-07-26T19:17:57.453871+00:00",
          "start_time": "2023-07-26T19:17:56.838264+00:00"
        }
      },
      "execution_count": null,
      "source": "plt.figure(figsize=(10,6))\nsns.boxplot(x='Region', y='Happiness Score', data=df_2016)\nplt.xticks(rotation=90)\nplt.title('Happiness Score Distribution by Region (2016)')\nplt.show()",
      "outputs": []
    },
    {
      "id": "8f6f1d09-92c5-4e8e-864c-ffb0cab818e8",
      "cell_type": "code",
      "metadata": {
        "noteable": {
          "cell_type": "code",
          "output_collection_id": "76356e15-8b0c-45fa-ad1c-7fbb0dc6df8d"
        },
        "ExecuteTime": {
          "end_time": "2023-07-26T19:18:14.913463+00:00",
          "start_time": "2023-07-26T19:18:13.906193+00:00"
        }
      },
      "execution_count": null,
      "source": "plt.figure(figsize=(10,8))\nsns.heatmap(df_2016.corr(), annot=True, cmap='coolwarm')\nplt.title('Correlation Matrix of Features (2016)')\nplt.show()",
      "outputs": []
    },
    {
      "id": "afd71d06-bdb1-4caa-9177-cdb45456cac8",
      "cell_type": "code",
      "metadata": {
        "noteable": {
          "cell_type": "code",
          "output_collection_id": "06cff51c-22c7-431f-a5bc-95ed9c53897d"
        },
        "ExecuteTime": {
          "end_time": "2023-07-26T19:20:34.641510+00:00",
          "start_time": "2023-07-26T19:20:34.146394+00:00"
        }
      },
      "execution_count": null,
      "source": "plt.figure(figsize=(10,6))\nsns.scatterplot(x='Economy (GDP per Capita)', y='Happiness Score', data=df_2016)\nplt.title('Happiness Score vs Economy (GDP per Capita) (2016)')\nplt.show()",
      "outputs": []
    },
    {
      "id": "a781365c-77ab-40a3-9f8b-42c36ae44ae3",
      "cell_type": "code",
      "metadata": {
        "noteable": {
          "cell_type": "code",
          "output_collection_id": "1673f1ea-e4e8-428e-873a-3884ed8e23b4"
        },
        "ExecuteTime": {
          "end_time": "2023-07-26T19:20:55.591563+00:00",
          "start_time": "2023-07-26T19:20:55.092764+00:00"
        }
      },
      "execution_count": null,
      "source": "plt.figure(figsize=(10,6))\nsns.scatterplot(x='Health (Life Expectancy)', y='Happiness Score', data=df_2016)\nplt.title('Happiness Score vs Health (Life Expectancy) (2016)')\nplt.show()",
      "outputs": []
    }
  ]
}